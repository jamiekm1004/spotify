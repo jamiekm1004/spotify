{
 "cells": [
  {
   "cell_type": "code",
   "execution_count": 11,
   "metadata": {},
   "outputs": [],
   "source": [
    "import pandas as pd\n",
    "\n",
    "#load the dataset\n",
    "dataset = pd.read_csv('/Users/jamie/Desktop/Projects/spotify_songs.csv')"
   ]
  },
  {
   "cell_type": "markdown",
   "metadata": {},
   "source": [
    "To clean the dataset, I handled missing values and duplicates carefully. \n",
    "For missing data in track_name, track_album_name, and track_artist, I didn’t drop rows since each song can still be uniquely identified by its track_id.\n",
    "To handle duplicates in the dataset, I chose to calculate the mean of variables and others for each unique track_id."
   ]
  },
  {
   "cell_type": "code",
   "execution_count": 12,
   "metadata": {},
   "outputs": [],
   "source": [
    "dataset.fillna({\n",
    "    'track_name': 'Unknown',\n",
    "    'track_artist': 'Unknown',\n",
    "    'track_album_name': 'Unknown',\n",
    "    'playlist_name': 'Unknown',\n",
    "    'playlist_genre': 'Unknown',\n",
    "    'playlist_subgenre': 'Unknown',\n",
    "    'track_popularity': 0,\n",
    "    'valence': dataset['valence'].mean(),\n",
    "    'energy': dataset['energy'].mean(),\n",
    "    'danceability': dataset['danceability'].mean(),\n",
    "    'loudness': dataset['loudness'].mean(),\n",
    "    'speechiness': dataset['speechiness'].mean(),\n",
    "    'acousticness': dataset['acousticness'].mean(),\n",
    "    'instrumentalness': dataset['instrumentalness'].mean(),\n",
    "    'liveness': dataset['liveness'].mean(),\n",
    "    'tempo': dataset['tempo'].mean(),\n",
    "    'key': dataset['key'].mean(),\n",
    "    'duration_ms': dataset['duration_ms'].mean()\n",
    "}, inplace=True)\n",
    "\n",
    "spotify_cleaned = dataset.groupby('track_id').agg({\n",
    "    'track_name': 'first',  # Retain the first occurrence\n",
    "    'track_artist': 'first',\n",
    "    'track_album_name': 'first',\n",
    "    'playlist_name': 'first',\n",
    "    'playlist_genre': 'first',\n",
    "    'playlist_subgenre': 'first',\n",
    "    'track_popularity': 'mean',\n",
    "    'valence': 'mean',\n",
    "    'energy': 'mean',\n",
    "    'danceability': 'mean',\n",
    "    'loudness': 'mean',\n",
    "    'speechiness': 'mean',\n",
    "    'acousticness': 'mean',\n",
    "    'instrumentalness': 'mean',\n",
    "    'liveness': 'mean',\n",
    "    'tempo': 'mean',\n",
    "    'key': 'mean',\n",
    "    'duration_ms': 'mean'\n",
    "}).reset_index()"
   ]
  },
  {
   "cell_type": "markdown",
   "metadata": {},
   "source": [
    "To ensure consistency and improve model performance, I scaled all the variables except the key feature I am using normalization. Scaling adjusts each variable to have a mean of 0 and a standard deviation of 1,\n",
    "and one hot the key values instead because it's a categorical column."
   ]
  },
  {
   "cell_type": "code",
   "execution_count": 15,
   "metadata": {},
   "outputs": [],
   "source": [
    "from sklearn.preprocessing import StandardScaler, OneHotEncoder\n",
    "\n",
    "# One-hot encode the 'key' column\n",
    "one_hot = pd.get_dummies(spotify_cleaned['key'], prefix='Key')\n",
    "one_hot = one_hot.astype(int)\n",
    "\n",
    "# Scale numerical columns\n",
    "scaler = StandardScaler()\n",
    "numerical_features = ['track_popularity', 'valence', 'energy', 'danceability', \n",
    "                      'loudness', 'speechiness', 'acousticness', 'instrumentalness', \n",
    "                      'liveness', 'tempo', 'duration_ms']\n",
    "scaled_features = scaler.fit_transform(spotify_cleaned[numerical_features])\n",
    "\n",
    "# Combine scaled features, one-hot encoding, and retained columns\n",
    "scaled_df = pd.DataFrame(scaled_features, columns=numerical_features)\n",
    "spotify_final = pd.concat([\n",
    "    spotify_cleaned[['track_id', 'track_name', 'track_artist']],\n",
    "    scaled_df,\n",
    "    one_hot\n",
    "], axis=1)\n",
    "\n"
   ]
  },
  {
   "cell_type": "code",
   "execution_count": 16,
   "metadata": {},
   "outputs": [
    {
     "name": "stdout",
     "output_type": "stream",
     "text": [
      "                 track_id    track_name        track_artist  track_popularity  \\\n",
      "0  0017A6SJgTbfQVU2EtsPNo      Pangarap     Barbie's Cradle          0.070468   \n",
      "1  002xjHwzEx66OWFV2IP9dk    The Others                RIKA         -1.026488   \n",
      "2  004s3t0ONYlzxII9PLgU6z  I Feel Alive       Steady Rollin         -0.478010   \n",
      "3  008MceT31RotUANsKuzy3L   Liquid Blue  The.madpix.project         -0.646772   \n",
      "4  008rk8F6ZxspZT4bUlkIQG         Fever         YOSA & TAAR         -0.056104   \n",
      "\n",
      "    valence    energy  danceability  loudness  speechiness  acousticness  ...  \\\n",
      "0  0.237324 -1.620642      0.196372 -1.070521    -0.822526      0.457022  ...   \n",
      "1  0.800618  0.030586     -0.489580  0.189611    -0.714290     -0.503036  ...   \n",
      "2 -0.453992  0.989715     -2.403387  0.684640    -0.621657     -0.742714  ...   \n",
      "3  1.457794  0.521049      0.038603  0.386569    -0.526097     -0.791812  ...   \n",
      "4 -0.061393  0.760832      0.059182  0.170508    -0.566076     -0.283556  ...   \n",
      "\n",
      "   Key_2.0  Key_3.0  Key_4.0  Key_5.0  Key_6.0  Key_7.0  Key_8.0  Key_9.0  \\\n",
      "0        1        0        0        0        0        0        0        0   \n",
      "1        0        0        0        1        0        0        0        0   \n",
      "2        0        0        0        0        0        0        0        1   \n",
      "3        0        0        0        0        0        0        0        0   \n",
      "4        0        0        0        0        0        0        0        0   \n",
      "\n",
      "   Key_10.0  Key_11.0  \n",
      "0         0         0  \n",
      "1         0         0  \n",
      "2         0         0  \n",
      "3         1         0  \n",
      "4         0         0  \n",
      "\n",
      "[5 rows x 26 columns]\n"
     ]
    }
   ],
   "source": [
    "#check encoding\n",
    "for column in spotify_final.select_dtypes(include=['object']).columns:\n",
    "    spotify_final[column] = spotify_final[column].str.normalize('NFKD').str.encode('ascii', errors='ignore').str.decode('utf-8')\n",
    "print(spotify_final.head())"
   ]
  },
  {
   "cell_type": "code",
   "execution_count": 17,
   "metadata": {},
   "outputs": [],
   "source": [
    "#save the cleaned dataset\n",
    "output_file = 'final_spotify_songs.csv'\n",
    "spotify_final.to_csv(output_file, index=False, encoding='utf-8')"
   ]
  },
  {
   "cell_type": "markdown",
   "metadata": {},
   "source": [
    "Let's calculate the correlation between track_popularity and other variables."
   ]
  },
  {
   "cell_type": "code",
   "execution_count": 26,
   "metadata": {},
   "outputs": [
    {
     "name": "stdout",
     "output_type": "stream",
     "text": [
      "track_popularity    1.000000\n",
      "acousticness        0.091725\n",
      "danceability        0.046597\n",
      "loudness            0.037285\n",
      "valence             0.022581\n",
      "Key_8               0.021443\n",
      "Key_0               0.015165\n",
      "speechiness         0.005205\n",
      "Key_1               0.005170\n",
      "tempo               0.004446\n",
      "Key_5               0.003276\n",
      "Key_10              0.000330\n",
      "Key_9              -0.002198\n",
      "Key_3              -0.003248\n",
      "Key_4              -0.003536\n",
      "Key_6              -0.004717\n",
      "Key_11             -0.006497\n",
      "Key_2              -0.008473\n",
      "Key_7              -0.017476\n",
      "liveness           -0.052773\n",
      "energy             -0.103622\n",
      "instrumentalness   -0.124431\n",
      "duration_ms        -0.131202\n",
      "Name: track_popularity, dtype: float64\n"
     ]
    }
   ],
   "source": [
    "import pymysql\n",
    "from sqlalchemy import create_engine\n",
    "\n",
    "#mySQL connection\n",
    "connection_string = \"mysql+pymysql://root:<password>@localhost/spotify_db\"\n",
    "engine = create_engine(connection_string)\n",
    "\n",
    "#query the data\n",
    "query = \"SELECT track_popularity, valence, energy, danceability, loudness, speechiness, acousticness, instrumentalness, liveness, tempo, duration_ms, Key_0, Key_1, Key_2, Key_3, Key_4, Key_5, Key_6, Key_7, Key_8, Key_9, Key_10, Key_11 FROM spotify_data\"\n",
    "df = pd.read_sql(query, engine)\n",
    "\n",
    "#correlation\n",
    "correlations = df.corr()\n",
    "\n",
    "#correlations with track_popularity\n",
    "print(correlations['track_popularity'].sort_values(ascending=False))"
   ]
  },
  {
   "cell_type": "code",
   "execution_count": 27,
   "metadata": {},
   "outputs": [
    {
     "name": "stdout",
     "output_type": "stream",
     "text": [
      "Mean Squared Error: 0.9493873403818097\n",
      "R^2 Score: 0.04326716300172373\n",
      "             Feature  Coefficient\n",
      "3           loudness     0.158676\n",
      "18             Key_8     0.053381\n",
      "5       acousticness     0.044203\n",
      "10             Key_0     0.043577\n",
      "8              tempo     0.033722\n",
      "20            Key_10     0.022714\n",
      "0            valence     0.019387\n",
      "2       danceability     0.019049\n",
      "11             Key_1     0.011575\n",
      "14             Key_4     0.004088\n",
      "15             Key_5     0.001906\n",
      "21            Key_11    -0.007882\n",
      "12             Key_2    -0.009053\n",
      "19             Key_9    -0.015862\n",
      "16             Key_6    -0.016083\n",
      "4        speechiness    -0.030938\n",
      "7           liveness    -0.031240\n",
      "17             Key_7    -0.036775\n",
      "13             Key_3    -0.051588\n",
      "6   instrumentalness    -0.089818\n",
      "9        duration_ms    -0.109736\n",
      "1             energy    -0.189833\n"
     ]
    }
   ],
   "source": [
    "#multiple linear regression\n",
    "from sklearn.model_selection import train_test_split\n",
    "from sklearn.linear_model import LinearRegression\n",
    "from sklearn.metrics import mean_squared_error, r2_score\n",
    "\n",
    "#features and target variable\n",
    "X = df.drop(columns=['track_popularity'])\n",
    "y = df['track_popularity']\n",
    "\n",
    "#split into training and testing sets\n",
    "X_train, X_test, y_train, y_test = train_test_split(X, y, test_size=0.3, random_state=42)\n",
    "\n",
    "#train the regression model\n",
    "model = LinearRegression()\n",
    "model.fit(X_train, y_train)\n",
    "\n",
    "#predict on the test set\n",
    "y_pred = model.predict(X_test)\n",
    "\n",
    "#evaluate the model\n",
    "mse = mean_squared_error(y_test, y_pred)\n",
    "r2 = r2_score(y_test, y_pred)\n",
    "print(f\"Mean Squared Error: {mse}\")\n",
    "print(f\"R^2 Score: {r2}\")\n",
    "\n",
    "#display feature coefficients\n",
    "coefficients = pd.DataFrame({\n",
    "    'Feature': X.columns,\n",
    "    'Coefficient': model.coef_\n",
    "}).sort_values(by='Coefficient', ascending=False)\n",
    "\n",
    "print(coefficients)\n"
   ]
  },
  {
   "cell_type": "markdown",
   "metadata": {},
   "source": [
    "From the result, the high mean squared error and low R squared score indicate that the linear regression model is not performing well in predicting track popularity. It could be other variables, not in the dataset, like artist popularity, marketing other factors could be predictors. Also, popularity might have nonlinear dependencies so it doesn't perfom well by a simple linear model. I can try nonlinear models such as random forest or polynomial regression."
   ]
  },
  {
   "cell_type": "markdown",
   "metadata": {},
   "source": []
  }
 ],
 "metadata": {
  "kernelspec": {
   "display_name": "Python 3",
   "language": "python",
   "name": "python3"
  },
  "language_info": {
   "codemirror_mode": {
    "name": "ipython",
    "version": 3
   },
   "file_extension": ".py",
   "mimetype": "text/x-python",
   "name": "python",
   "nbconvert_exporter": "python",
   "pygments_lexer": "ipython3",
   "version": "3.11.8"
  }
 },
 "nbformat": 4,
 "nbformat_minor": 2
}
